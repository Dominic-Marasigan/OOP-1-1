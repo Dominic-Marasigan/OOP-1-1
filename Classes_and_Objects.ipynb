{
  "nbformat": 4,
  "nbformat_minor": 0,
  "metadata": {
    "colab": {
      "name": "Classes and Objects.ipynb",
      "provenance": [],
      "collapsed_sections": [],
      "authorship_tag": "ABX9TyOfo+5hduboRrCf6s6yjh49",
      "include_colab_link": true
    },
    "kernelspec": {
      "name": "python3",
      "display_name": "Python 3"
    },
    "language_info": {
      "name": "python"
    }
  },
  "cells": [
    {
      "cell_type": "markdown",
      "metadata": {
        "id": "view-in-github",
        "colab_type": "text"
      },
      "source": [
        "<a href=\"https://colab.research.google.com/github/Dominic-Marasigan/OOP-1-1/blob/main/Classes_and_Objects.ipynb\" target=\"_parent\"><img src=\"https://colab.research.google.com/assets/colab-badge.svg\" alt=\"Open In Colab\"/></a>"
      ]
    },
    {
      "cell_type": "markdown",
      "source": [
        "Application 2: Write a Python Program that displays the fullname of a student, student number, age, course and school. Create a class name OOP_1-1 and create info() method to display the information of a student with fullname, student_no, age, course and school."
      ],
      "metadata": {
        "id": "xjJgB_FPji0w"
      }
    },
    {
      "cell_type": "code",
      "execution_count": 56,
      "metadata": {
        "colab": {
          "base_uri": "https://localhost:8080/"
        },
        "id": "RUKtKaqsjgwv",
        "outputId": "93680c13-caba-4ae8-f013-30b3f4dd5452"
      },
      "outputs": [
        {
          "output_type": "stream",
          "name": "stdout",
          "text": [
            "My name is Dominic Z. Marasigan\n",
            "My student number is 202101628\n",
            "I am 19 years old\n",
            "My course is BS CpE\n",
            "My school is CvSU - Main Campus\n"
          ]
        }
      ],
      "source": [
        "class OOP_1_1:\n",
        "  def __init__(self, fullname, student_no, age, course, school):\n",
        "    self.fullname = fullname\n",
        "    self.student_no = student_no\n",
        "    self.age = age\n",
        "    self.course = course\n",
        "    self.school  = school\n",
        "\n",
        "  def info(self):\n",
        "    #print(self, self.fullname, self.student_no, self.age, self.course, self.school\n",
        "    print(\"My name is\", self.fullname)\n",
        "    print(\"My student number is\", self.student_no)\n",
        "    print(\"I am\", self.age, \"years old\")\n",
        "    print(\"My course is\", self.course)\n",
        "    print(\"My school is\", self.school)\n",
        "\n",
        "student = OOP_1_1(\"Dominic Z. Marasigan\", 202101628, 19, \"BS CpE\", \"CvSU - Main Campus\")\n",
        "student.info()"
      ]
    },
    {
      "cell_type": "markdown",
      "source": [
        "Application 3: \n",
        "\n",
        "1.   \n",
        "Define an Area() method of the class that calculates the circle’s area\n",
        "2.   Define a Perimeter() method of the class which allows you to calculate the perimeter of the circle.\n",
        "\n"
      ],
      "metadata": {
        "id": "b2MBmh5UlfqN"
      }
    },
    {
      "cell_type": "code",
      "source": [
        "class Circle():\n",
        "  def __init__(self, radius):\n",
        "    self.radius = radius\n",
        "\n",
        "  def Area(self):\n",
        "    return 3.141592653589793*self.radius**2\n",
        "\n",
        "  def Perimeter(self):\n",
        "    return 2*3.141592653589793*self.radius\n",
        "\n",
        "circle = Circle(7)\n",
        "print(\"Area of circle is approximately:\", circle.Area())\n",
        "print(\"Perimeter of circle is approximately:\", circle.Perimeter())"
      ],
      "metadata": {
        "colab": {
          "base_uri": "https://localhost:8080/"
        },
        "id": "Q1ovREQOleUo",
        "outputId": "eb4c8023-85ad-45ff-d17b-88fc3331ecb4"
      },
      "execution_count": 57,
      "outputs": [
        {
          "output_type": "stream",
          "name": "stdout",
          "text": [
            "Area of circle is approximately: 153.93804002589985\n",
            "Perimeter of circle is approximately: 43.982297150257104\n"
          ]
        }
      ]
    }
  ]
}