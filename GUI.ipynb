{
  "nbformat": 4,
  "nbformat_minor": 0,
  "metadata": {
    "colab": {
      "name": "GUI.ipynb",
      "provenance": [],
      "collapsed_sections": [],
      "authorship_tag": "ABX9TyMZWe3ThXLLMxmCoA9x6Ol0",
      "include_colab_link": true
    },
    "kernelspec": {
      "name": "python3",
      "display_name": "Python 3"
    },
    "language_info": {
      "name": "python"
    }
  },
  "cells": [
    {
      "cell_type": "markdown",
      "metadata": {
        "id": "view-in-github",
        "colab_type": "text"
      },
      "source": [
        "<a href=\"https://colab.research.google.com/github/Dominic-Marasigan/OOP-1-1/blob/main/GUI.ipynb\" target=\"_parent\"><img src=\"https://colab.research.google.com/assets/colab-badge.svg\" alt=\"Open In Colab\"/></a>"
      ]
    },
    {
      "cell_type": "markdown",
      "source": [
        "Student Grades in OOP subject"
      ],
      "metadata": {
        "id": "oWauFL9SULi-"
      }
    },
    {
      "cell_type": "code",
      "source": [
        "#@title Students' Grade in OOP\n",
        "student_name = \"Dominic Z. Marasigan\"#@param {type: \"string\"}\n",
        "prelim =  90#@param {type:\"number\"}\n",
        "midterm =  96#@param {type:\"number\"}\n",
        "final   =  97#@param {type:\"number\"}\n",
        "semestral_grade = ((prelim+midterm+final)/3)\n",
        "\n",
        "print(\"Grades of Student:\", student_name )\n",
        "print(\"Prelim Grade:\", prelim)\n",
        "print(\"MIdterm Grade:\", midterm)\n",
        "print(\"Final Grade:\", final)\n",
        "print(\"Average: \", (round(semestral_grade, 2)))"
      ],
      "metadata": {
        "colab": {
          "base_uri": "https://localhost:8080/"
        },
        "id": "QOBz_vXcUKse",
        "outputId": "25e0dc75-3164-4878-9599-dceb076ece21"
      },
      "execution_count": null,
      "outputs": [
        {
          "output_type": "stream",
          "name": "stdout",
          "text": [
            "Grades of Student: Dominic Z. Marasigan\n",
            "Prelim Grade: 90\n",
            "MIdterm Grade: 96\n",
            "Final Grade: 97\n",
            "Average:  94.33\n"
          ]
        }
      ]
    },
    {
      "cell_type": "code",
      "source": [
        "Gender = \"Male\" #@param [\"Male\", \"Female\"] {type:\"raw\"}\n",
        "BirthDate = '2002-07-02' #@param {type: \"date\"}\n",
        "\n",
        "print(\"I am a\", Gender)\n",
        "print(\"My birthdate is\",BirthDate)"
      ],
      "metadata": {
        "colab": {
          "base_uri": "https://localhost:8080/"
        },
        "id": "Xbrx8Jf-X8w6",
        "outputId": "dce698e3-6dd9-451b-9589-41d2d226fa46"
      },
      "execution_count": 61,
      "outputs": [
        {
          "output_type": "stream",
          "name": "stdout",
          "text": [
            "I am a Male\n",
            "My birthdate is 2002-07-02\n"
          ]
        }
      ]
    }
  ]
}