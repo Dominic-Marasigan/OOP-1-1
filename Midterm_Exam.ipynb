{
  "nbformat": 4,
  "nbformat_minor": 0,
  "metadata": {
    "colab": {
      "name": "Midterm Exam.ipynb",
      "provenance": [],
      "collapsed_sections": [],
      "authorship_tag": "ABX9TyPQOczPLYAKK50VQ51LgqAh",
      "include_colab_link": true
    },
    "kernelspec": {
      "name": "python3",
      "display_name": "Python 3"
    },
    "language_info": {
      "name": "python"
    }
  },
  "cells": [
    {
      "cell_type": "markdown",
      "metadata": {
        "id": "view-in-github",
        "colab_type": "text"
      },
      "source": [
        "<a href=\"https://colab.research.google.com/github/Dominic-Marasigan/OOP-1-1/blob/main/Midterm_Exam.ipynb\" target=\"_parent\"><img src=\"https://colab.research.google.com/assets/colab-badge.svg\" alt=\"Open In Colab\"/></a>"
      ]
    },
    {
      "cell_type": "markdown",
      "source": [
        "Program 1: Modify the program below by adding two conversion methods - Fahrenheit to Celsius and Kelvin to Celsius "
      ],
      "metadata": {
        "id": "FidD4iQejejc"
      }
    },
    {
      "cell_type": "code",
      "execution_count": 18,
      "metadata": {
        "colab": {
          "base_uri": "https://localhost:8080/"
        },
        "id": "DuBPQxvVgTRB",
        "outputId": "9194255e-32a0-427b-c56f-472678b72802"
      },
      "outputs": [
        {
          "output_type": "stream",
          "name": "stdout",
          "text": [
            "Enter the temperature in Celsius: 56\n",
            "329.15 Kelvin\n",
            "132.8 Fahrenheit\n",
            "\n",
            "Enter the Temperature in Fahrenheit: 5\n",
            "-15.0 Celsius\n",
            "\n",
            "Enter the Temperature in Kelvin:12\n",
            "-261.15 Celsius\n"
          ]
        }
      ],
      "source": [
        "def main():\n",
        " class TemperatureConversion:\n",
        "  def __init__(self, temp=1):\n",
        "   self._temp = temp\n",
        " class CelsiusToFahrenheit(TemperatureConversion):\n",
        "  def conversion(self):\n",
        "   return (self._temp * 9) / 5 + 32\n",
        " class CelsiusToKelvin(TemperatureConversion):\n",
        "  def conversion(self):\n",
        "   return self._temp + 273.15\n",
        " class FahrenheitToCelsius(TemperatureConversion):\n",
        "  def conversion2(self):\n",
        "   return (self._temp - 32) * 5/9\n",
        " class KelvinToCelsius(TemperatureConversion):\n",
        "  def conversion2(self):\n",
        "    return self._temp - 273.15\n",
        "\n",
        " tempInCelsius = float(input(\"Enter the temperature in Celsius: \"))\n",
        " convert = CelsiusToKelvin(tempInCelsius)\n",
        " print(str(convert.conversion()) + \" Kelvin\")\n",
        " convert = CelsiusToFahrenheit(tempInCelsius)\n",
        " print(str(convert.conversion()) + \" Fahrenheit\")\n",
        "\n",
        " tempinFahrenheit = float(input(\"\\nEnter the Temperature in Fahrenheit: \"))\n",
        " convert2 = FahrenheitToCelsius(tempinFahrenheit)\n",
        " print(str(convert2.conversion2()),\"Celsius\")\n",
        "    \n",
        " tempkelvin = float(input(\"\\nEnter the Temperature in Kelvin:\"))\n",
        " convert = KelvinToCelsius(tempkelvin)\n",
        " print(str(convert.conversion2()),\"Celsius\")\n",
        "\n",
        "main()"
      ]
    }
  ]
}