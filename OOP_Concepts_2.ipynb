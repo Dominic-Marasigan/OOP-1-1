{
  "nbformat": 4,
  "nbformat_minor": 0,
  "metadata": {
    "colab": {
      "name": "OOP Concepts 2.ipynb",
      "provenance": [],
      "collapsed_sections": [],
      "authorship_tag": "ABX9TyNncCsZirBZGtZB/iKDWxbU",
      "include_colab_link": true
    },
    "kernelspec": {
      "name": "python3",
      "display_name": "Python 3"
    },
    "language_info": {
      "name": "python"
    }
  },
  "cells": [
    {
      "cell_type": "markdown",
      "metadata": {
        "id": "view-in-github",
        "colab_type": "text"
      },
      "source": [
        "<a href=\"https://colab.research.google.com/github/Dominic-Marasigan/OOP-1-1/blob/main/OOP_Concepts_2.ipynb\" target=\"_parent\"><img src=\"https://colab.research.google.com/assets/colab-badge.svg\" alt=\"Open In Colab\"/></a>"
      ]
    },
    {
      "cell_type": "markdown",
      "source": [
        "Classes with Multiple Objects\n",
        "\n"
      ],
      "metadata": {
        "id": "X2XAUXgMO1Mc"
      }
    },
    {
      "cell_type": "code",
      "execution_count": null,
      "metadata": {
        "colab": {
          "base_uri": "https://localhost:8080/"
        },
        "id": "zpdNsFWZOv-R",
        "outputId": "9068214d-5495-452d-dfc6-d13318e12e29"
      },
      "outputs": [
        {
          "output_type": "stream",
          "name": "stdout",
          "text": [
            "Griffor Vultureflies above the sky\n",
            "Commong Craneflies above the sky\n",
            "Emu is the national bird of Australia\n"
          ]
        }
      ],
      "source": [
        "class Birds:\n",
        "  def __init__(self,birds_name):\n",
        "    self.birds_name = birds_name\n",
        "  def flying_birds(self):\n",
        "    print(f\"{self.birds_name}flies above the sky\")\n",
        "  def non_flying_birds(self):\n",
        "    print(f\"{self.birds_name} is the national bird of Australia\")\n",
        "\n",
        "vulture = Birds(\"Griffor Vulture\")\n",
        "crane = Birds(\"Commong Crane\")\n",
        "emu = Birds(\"Emu\")\n",
        "\n",
        "vulture.flying_birds()\n",
        "crane.flying_birds()\n",
        "emu.non_flying_birds()"
      ]
    },
    {
      "cell_type": "markdown",
      "source": [
        "Encapsulation with (Mangling with double underscore)"
      ],
      "metadata": {
        "id": "6p5tsqFKPwXM"
      }
    },
    {
      "cell_type": "code",
      "source": [
        "class foo:\n",
        "  def __init__(self,a,b):\n",
        "    self.__a = a \n",
        "    self.__b = b\n",
        "\n",
        "  def add(self):\n",
        "    return self.__a + self.__b \n",
        "\n",
        "object_foo = foo(3,4)\n",
        "object_foo.add()\n",
        "\n",
        "object_foo.__a = 6\n",
        "object_foo.__b = 7\n",
        "object_foo.add()\n"
      ],
      "metadata": {
        "colab": {
          "base_uri": "https://localhost:8080/"
        },
        "id": "PpZqbye2PZK7",
        "outputId": "03869dc4-4b40-4f44-f9fd-d04016ad5872"
      },
      "execution_count": null,
      "outputs": [
        {
          "output_type": "execute_result",
          "data": {
            "text/plain": [
              "7"
            ]
          },
          "metadata": {},
          "execution_count": 20
        }
      ]
    },
    {
      "cell_type": "code",
      "source": [
        "class Counter:\n",
        "    def __init__(self):\n",
        "        self.__current = 0\n",
        "    def increment(self):\n",
        "        self.__current += 1\n",
        "    def value(self):\n",
        "        return self.__current\n",
        "    def reset(self):\n",
        "        self.__current = 0\n",
        "\n",
        "number = Counter()\n",
        "number.__current = 1\n",
        "\n",
        "number.increment()\n",
        "number.increment()\n",
        "number.increment()\n",
        "\n",
        "print(number.value())"
      ],
      "metadata": {
        "colab": {
          "base_uri": "https://localhost:8080/"
        },
        "id": "7bPAXPz0RtVz",
        "outputId": "d4d1f0d6-f6a4-4e67-fa2d-a18f2e637ea2"
      },
      "execution_count": null,
      "outputs": [
        {
          "output_type": "stream",
          "name": "stdout",
          "text": [
            "3\n"
          ]
        }
      ]
    },
    {
      "cell_type": "markdown",
      "source": [
        "Inheritance "
      ],
      "metadata": {
        "id": "aCPgT2eVU8TP"
      }
    },
    {
      "cell_type": "code",
      "source": [
        "class Person:\n",
        "  def __init__(self, first_name, surname):\n",
        "    self.first_name = first_name\n",
        "    self.surname = surname \n",
        "\n",
        "  def fullname(self):\n",
        "    print(self.first_name, self.surname) \n",
        "\n",
        "person = Person(\"Dominic\",  \"Marasigan\")\n",
        "person.fullname()\n",
        "\n",
        "class Teacher(Person):\n",
        "  pass\n",
        "\n",
        "person2 = Teacher(\"Maam\", \"Maria\")\n",
        "person2.fullname()\n",
        "\n",
        "class Student(Person):\n",
        "  pass\n",
        "\n",
        "person3 = Teacher(\"Dom\", \"Marasigan\")\n",
        "person3.fullname()"
      ],
      "metadata": {
        "colab": {
          "base_uri": "https://localhost:8080/"
        },
        "id": "Y77aax04U4EQ",
        "outputId": "063d097a-c114-403b-d683-dbed04f1f4c7"
      },
      "execution_count": null,
      "outputs": [
        {
          "output_type": "stream",
          "name": "stdout",
          "text": [
            "Dominic Marasigan\n",
            "Maam Maria\n",
            "Dom Marasigan\n"
          ]
        }
      ]
    },
    {
      "cell_type": "markdown",
      "source": [
        "Polymorphism"
      ],
      "metadata": {
        "id": "m_9btdZtXgaA"
      }
    },
    {
      "cell_type": "code",
      "source": [
        "class RegularPolygon:\n",
        "  def __init__(self, side):\n",
        "    self.side = side\n",
        "\n",
        "class Square(RegularPolygon):\n",
        "  def area(self):\n",
        "    return self.side * self.side\n",
        "\n",
        "class EquilateralTriangle(RegularPolygon):\n",
        "  def area(self):\n",
        "    return self.side * self.side * 0.433\n",
        "\n",
        "obj1 = Square(4)\n",
        "print(obj1.area())\n",
        "\n",
        "obj2 = EquilateralTriangle(3)\n",
        "print(obj2.area())"
      ],
      "metadata": {
        "colab": {
          "base_uri": "https://localhost:8080/"
        },
        "id": "4_g1ZAu0Xh6d",
        "outputId": "c812c8e0-b98a-4aa8-82c2-91852b5e13ec"
      },
      "execution_count": null,
      "outputs": [
        {
          "output_type": "stream",
          "name": "stdout",
          "text": [
            "16\n",
            "3.897\n"
          ]
        }
      ]
    },
    {
      "cell_type": "markdown",
      "source": [
        "**Application no. 1:**\n",
        "\n",
        "1. Create a Python Program that displays the name of three students (Student 1, Student 2, Student 3) and their term grades.\n",
        "\n",
        "2. Create a class name Person and attributes - std1. std2, std3, pre,mid,fin\n",
        "\n",
        "3. Computes the average of each term grade using Grade() method \n",
        "\n",
        "4. Information about student's grades must be hidden from others\n"
      ],
      "metadata": {
        "id": "PhH5atIsY4Gt"
      }
    },
    {
      "cell_type": "code",
      "source": [
        "class Person:\n",
        "    def __init__(self):\n",
        "        self.__name = input(\"\\nEnter your Name: \")\n",
        "    \n",
        "    def Grade_input(self):\n",
        "        self.__pre = float(input(\"Enter Prelim Grades : \"))\n",
        "        self.__mid = float(input(\"Enter Midterm Grades : \"))\n",
        "        self.__fin = float(input(\"Enter Finals Grades : \"))\n",
        "    def Grade(self):\n",
        "       print(\"Average Grade:  \",((self.__pre) + (self.__mid) + (self.__fin))/3)\n",
        "  \n",
        "Std1 = Person()\n",
        "Std1.Grade_input()\n",
        "Std1.Grade()\n",
        "\n",
        "Std2 = Person()\n",
        "Std2.Grade_input()\n",
        "Std2.Grade()\n",
        "\n",
        "Std3 = Person()\n",
        "Std3.Grade_input()\n",
        "Std3.Grade()"
      ],
      "metadata": {
        "colab": {
          "base_uri": "https://localhost:8080/"
        },
        "id": "Zn1bz9T5oMJs",
        "outputId": "5923e2d3-fa33-40ec-e8b9-04017733efb4"
      },
      "execution_count": 34,
      "outputs": [
        {
          "output_type": "stream",
          "name": "stdout",
          "text": [
            "\n",
            "Enter your Name: Harry Potter\n",
            "Enter Prelim Grades : 1.50\n",
            "Enter Midterm Grades : 1.25\n",
            "Enter Finals Grades : 1.00\n",
            "Average Grade:   1.25\n",
            "\n",
            "Enter your Name: Ronald Weasley\n",
            "Enter Prelim Grades : 1.75\n",
            "Enter Midterm Grades : 1.75\n",
            "Enter Finals Grades : 1.25\n",
            "Average Grade:   1.5833333333333333\n",
            "\n",
            "Enter your Name: Hermione Granger\n",
            "Enter Prelim Grades : 1.25\n",
            "Enter Midterm Grades : 1.00\n",
            "Enter Finals Grades : 1.00\n",
            "Average Grade:   1.0833333333333333\n"
          ]
        }
      ]
    }
  ]
}