{
  "nbformat": 4,
  "nbformat_minor": 0,
  "metadata": {
    "colab": {
      "name": "OOP Concepts 2.ipynb",
      "provenance": [],
      "collapsed_sections": [],
      "authorship_tag": "ABX9TyP9ClzUIgU++TiBZCQClt6Q",
      "include_colab_link": true
    },
    "kernelspec": {
      "name": "python3",
      "display_name": "Python 3"
    },
    "language_info": {
      "name": "python"
    }
  },
  "cells": [
    {
      "cell_type": "markdown",
      "metadata": {
        "id": "view-in-github",
        "colab_type": "text"
      },
      "source": [
        "<a href=\"https://colab.research.google.com/github/Dominic-Marasigan/OOP-1-1/blob/main/OOP_Concepts_2.ipynb\" target=\"_parent\"><img src=\"https://colab.research.google.com/assets/colab-badge.svg\" alt=\"Open In Colab\"/></a>"
      ]
    },
    {
      "cell_type": "markdown",
      "source": [
        "Classes with Multiple Objects\n",
        "\n"
      ],
      "metadata": {
        "id": "X2XAUXgMO1Mc"
      }
    },
    {
      "cell_type": "code",
      "execution_count": 16,
      "metadata": {
        "colab": {
          "base_uri": "https://localhost:8080/"
        },
        "id": "zpdNsFWZOv-R",
        "outputId": "91f40784-ff46-4bb2-e6a8-c083a3cf0f5f"
      },
      "outputs": [
        {
          "output_type": "stream",
          "name": "stdout",
          "text": [
            "Griffor Vultureflies above the sky\n",
            "Commong Craneflies above the sky\n",
            "Emu is the national bird of Australia\n"
          ]
        }
      ],
      "source": [
        "class Birds:\n",
        "  def __init__(self,birds_name):\n",
        "    self.birds_name = birds_name\n",
        "  def flying_birds(self):\n",
        "    print(f\"{self.birds_name}flies above the sky\")\n",
        "  def non_flying_birds(self):\n",
        "    print(f\"{self.birds_name} is the national bird of Australia\")\n",
        "\n",
        "vulture = Birds(\"Griffor Vulture\")\n",
        "crane = Birds(\"Commong Crane\")\n",
        "emu = Birds(\"Emu\")\n",
        "\n",
        "vulture.flying_birds()\n",
        "crane.flying_birds()\n",
        "emu.non_flying_birds()"
      ]
    },
    {
      "cell_type": "markdown",
      "source": [
        "Encapsulation with (Mangling with double underscore)"
      ],
      "metadata": {
        "id": "6p5tsqFKPwXM"
      }
    },
    {
      "cell_type": "code",
      "source": [
        "class foo:\n",
        "  def __init__(self,a,b):\n",
        "    self.__a = a \n",
        "    self.__b = b\n",
        "\n",
        "  def add(self):\n",
        "    return self.__a + self.__b \n",
        "\n",
        "object_foo = foo(3,4)\n",
        "object_foo.add()\n",
        "\n",
        "object_foo.__a = 6\n",
        "object_foo.__b = 7\n",
        "object_foo.add()\n"
      ],
      "metadata": {
        "colab": {
          "base_uri": "https://localhost:8080/"
        },
        "id": "PpZqbye2PZK7",
        "outputId": "95f32490-0c89-4703-e5c2-2092c58721c6"
      },
      "execution_count": 17,
      "outputs": [
        {
          "output_type": "execute_result",
          "data": {
            "text/plain": [
              "7"
            ]
          },
          "metadata": {},
          "execution_count": 17
        }
      ]
    },
    {
      "cell_type": "code",
      "source": [
        "class Counter:\n",
        "    def __init__(self):\n",
        "        self.__current = 0\n",
        "    def increment(self):\n",
        "        self.__current += 1\n",
        "    def value(self):\n",
        "        return self.__current\n",
        "    def reset(self):\n",
        "        self.__current = 0\n",
        "\n",
        "number = Counter()\n",
        "number.__current = 1\n",
        "\n",
        "number.increment()\n",
        "number.increment()\n",
        "number.increment()\n",
        "\n",
        "print(number.value())"
      ],
      "metadata": {
        "colab": {
          "base_uri": "https://localhost:8080/"
        },
        "id": "7bPAXPz0RtVz",
        "outputId": "7e81b124-a16e-4562-e9d5-e8391df7f2c7"
      },
      "execution_count": 18,
      "outputs": [
        {
          "output_type": "stream",
          "name": "stdout",
          "text": [
            "3\n"
          ]
        }
      ]
    },
    {
      "cell_type": "markdown",
      "source": [
        "Inheritance "
      ],
      "metadata": {
        "id": "aCPgT2eVU8TP"
      }
    },
    {
      "cell_type": "code",
      "source": [
        "class Person:\n",
        "  def __init__(self, first_name, surname):\n",
        "    self.first_name = first_name\n",
        "    self.surname = surname \n",
        "\n",
        "  def fullname(self):\n",
        "    print(self.first_name, self.surname) \n",
        "\n",
        "person = Person(\"Dominic\",  \"Marasigan\")\n",
        "person.fullname()\n",
        "\n",
        "class Teacher(Person):\n",
        "  pass\n",
        "\n",
        "person2 = Teacher(\"Maam\", \"Maria\")\n",
        "person2.fullname()\n",
        "\n",
        "class Student(Person):\n",
        "  pass\n",
        "\n",
        "person3 = Teacher(\"Dom\", \"Marasigan\")\n",
        "person3.fullname()"
      ],
      "metadata": {
        "colab": {
          "base_uri": "https://localhost:8080/"
        },
        "id": "Y77aax04U4EQ",
        "outputId": "39fddd7d-9cfe-4415-e154-b95cdc3d0dbd"
      },
      "execution_count": 19,
      "outputs": [
        {
          "output_type": "stream",
          "name": "stdout",
          "text": [
            "Dominic Marasigan\n",
            "Maam Maria\n",
            "Dom Marasigan\n"
          ]
        }
      ]
    },
    {
      "cell_type": "markdown",
      "source": [
        "Polymorphism"
      ],
      "metadata": {
        "id": "m_9btdZtXgaA"
      }
    },
    {
      "cell_type": "code",
      "source": [
        "class RegularPolygon:\n",
        "  def __init__(self, side):\n",
        "    self.side = side\n",
        "\n",
        "class Square(RegularPolygon):\n",
        "  def area(self):\n",
        "    return self.side * self.side\n",
        "\n",
        "class EquilateralTriangle(RegularPolygon):\n",
        "  def area(self):\n",
        "    return self.side * self.side * 0.433\n",
        "\n",
        "obj1 = Square(4)\n",
        "print(obj1.area())\n",
        "\n",
        "obj2 = EquilateralTriangle(3)\n",
        "print(obj2.area())"
      ],
      "metadata": {
        "colab": {
          "base_uri": "https://localhost:8080/"
        },
        "id": "4_g1ZAu0Xh6d",
        "outputId": "358c662b-b370-4817-989b-060ddc18c24c"
      },
      "execution_count": 20,
      "outputs": [
        {
          "output_type": "stream",
          "name": "stdout",
          "text": [
            "16\n",
            "3.897\n"
          ]
        }
      ]
    },
    {
      "cell_type": "markdown",
      "source": [
        "**Application no. 1:**\n",
        "\n",
        "1. Create a Python Program that displays the name of three students (Student 1, Student 2, Student 3) and their term grades.\n",
        "\n",
        "2. Create a class name Person and attributes - std1. std2, std3, pre,mid,fin\n",
        "\n",
        "3. Computes the average of each term grade using Grade() method \n",
        "\n",
        "4. Information about student's grades must be hidden from others\n"
      ],
      "metadata": {
        "id": "PhH5atIsY4Gt"
      }
    },
    {
      "cell_type": "code",
      "execution_count": 21,
      "metadata": {
        "colab": {
          "base_uri": "https://localhost:8080/"
        },
        "id": "Q64PAtVeM-cl",
        "outputId": "f6977f65-2855-435b-db5e-e657f32b3450"
      },
      "outputs": [
        {
          "output_type": "stream",
          "name": "stdout",
          "text": [
            "Student 1's Term Grades:\n",
            "[1.5, 1.25, 1.0]\n",
            "GWA: 1.25\n",
            "\n",
            "Student 2's Term Grades:\n",
            "[1.0, 1.75, 1.0]\n",
            "GWA: 1.25\n",
            "\n",
            "Student 3's Term Grades:\n",
            "[1.75, 1.5, 1.25]\n",
            "GWA: 1.5\n"
          ]
        }
      ],
      "source": [
        "class Person:\n",
        "    def __init__(self, std, pre, mid, fin):\n",
        "        self.__std = std\n",
        "        self.__pre = pre\n",
        "        self.__mid = mid\n",
        "        self.__fin = fin\n",
        "        \n",
        "    def Grade(self):\n",
        "        print(f\"{self.__std}'s Term Grades:\")\n",
        "        grades = (self.__pre + self.__mid + self.__fin)\n",
        "        average = (grades/3)\n",
        "\n",
        "        list = [self.__pre, self.__mid, self.__fin]\n",
        "        print(list)\n",
        "        print(\"GWA:\", average)\n",
        "\n",
        "std1 =Person(\"Student 1\", 1.50, 1.25, 1.00)\n",
        "std2 =Person(\"\\nStudent 2\", 1.00, 1.75, 1.00)\n",
        "std3 =Person(\"\\nStudent 3\", 1.75, 1.50, 1.25)\n",
        "\n",
        "std1.Grade()\n",
        "std2.Grade()\n",
        "std3.Grade()"
      ]
    }
  ]
}