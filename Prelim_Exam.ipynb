{
  "nbformat": 4,
  "nbformat_minor": 0,
  "metadata": {
    "colab": {
      "name": "Prelim Exam.ipynb",
      "provenance": [],
      "collapsed_sections": [],
      "authorship_tag": "ABX9TyP1aoRZ7K5wGVf7qXnRbuJ0",
      "include_colab_link": true
    },
    "kernelspec": {
      "name": "python3",
      "display_name": "Python 3"
    },
    "language_info": {
      "name": "python"
    }
  },
  "cells": [
    {
      "cell_type": "markdown",
      "metadata": {
        "id": "view-in-github",
        "colab_type": "text"
      },
      "source": [
        "<a href=\"https://colab.research.google.com/github/Dominic-Marasigan/OOP-1-1/blob/main/Prelim_Exam.ipynb\" target=\"_parent\"><img src=\"https://colab.research.google.com/assets/colab-badge.svg\" alt=\"Open In Colab\"/></a>"
      ]
    },
    {
      "cell_type": "markdown",
      "source": [
        "**Problem 2:**\n",
        "1. Write a Python to display your full name, student number, age, and course\n",
        "2. Create a class named Student with attributes: Name, Student_No, Age, School, and Course\n",
        "3. Create an object name Myself and assign an instance for each attribute.\n",
        "4. Create a method Info() using an instantiation of a class.\n"
      ],
      "metadata": {
        "id": "Y-d8IyDD5UzX"
      }
    },
    {
      "cell_type": "code",
      "execution_count": 22,
      "metadata": {
        "colab": {
          "base_uri": "https://localhost:8080/"
        },
        "id": "FQYGraZC4fkp",
        "outputId": "501909fe-cbfb-49e7-8430-c088d092b4b2"
      },
      "outputs": [
        {
          "output_type": "stream",
          "name": "stdout",
          "text": [
            "My name is Dominic Z. Marasigan.\n",
            "\n",
            "My Student Number is 202101628.\n",
            "\n",
            "I am 19 years old.\n",
            "\n",
            "I'm enrolled in CvSU - Indang Campus.\n",
            "\n",
            "My course is BS Computer Engineering (BS CpE).\n"
          ]
        }
      ],
      "source": [
        "class Student:\n",
        "  def __init__(self, full_name, student_no, age, school, course):\n",
        "    self.full_name = full_name\n",
        "    self.student_no = student_no\n",
        "    self.age = age\n",
        "    self.school  = school\n",
        "    self.course = course\n",
        "\n",
        "  def Info(self):\n",
        "    print(f\"My name is {self.full_name}.\")\n",
        "    print(f\"\\nMy Student Number is {self.student_no}.\")\n",
        "    print(f\"\\nI am {self.age} years old.\")\n",
        "    print(f\"\\nI'm enrolled in {self.school}.\")\n",
        "    print(f\"\\nMy course is {self.course}.\")\n",
        "\n",
        "Myself = Student(\"Dominic Z. Marasigan\", 202101628, 19, \"CvSU - Indang Campus\", \"BS Computer Engineering (BS CpE)\",)\n",
        "Myself.Info()"
      ]
    }
  ]
}