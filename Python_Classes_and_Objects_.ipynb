{
  "nbformat": 4,
  "nbformat_minor": 0,
  "metadata": {
    "colab": {
      "name": "Python Classes and Objects .ipynb",
      "provenance": [],
      "collapsed_sections": [],
      "authorship_tag": "ABX9TyN41Dt2eQakzu2BO1R1MiIJ",
      "include_colab_link": true
    },
    "kernelspec": {
      "name": "python3",
      "display_name": "Python 3"
    },
    "language_info": {
      "name": "python"
    }
  },
  "cells": [
    {
      "cell_type": "markdown",
      "metadata": {
        "id": "view-in-github",
        "colab_type": "text"
      },
      "source": [
        "<a href=\"https://colab.research.google.com/github/Dominic-Marasigan/OOP-1-1/blob/main/Python_Classes_and_Objects_.ipynb\" target=\"_parent\"><img src=\"https://colab.research.google.com/assets/colab-badge.svg\" alt=\"Open In Colab\"/></a>"
      ]
    },
    {
      "cell_type": "markdown",
      "source": [
        "Classes"
      ],
      "metadata": {
        "id": "XQk-BlPNQyPP"
      }
    },
    {
      "cell_type": "code",
      "execution_count": 1,
      "metadata": {
        "id": "JTv3yxI8Qpzk"
      },
      "outputs": [],
      "source": [
        "class MyClass:    #name of class\n",
        "  pass                     #create a class without variable and methods\n"
      ]
    },
    {
      "cell_type": "code",
      "source": [
        "class MyClass:\n",
        "  def __init__(self,name,age):     \n",
        "    self.name = name          #create a class with attributes\n",
        "    self.age = age\n",
        "\n",
        "  def display(self):\n",
        "   print(self.name, (self.age))\n",
        "\n",
        "person = MyClass(\"Dominic Z Marasigan, \", str(19)+\" \"+ \"years old\")  #create an object name\n",
        "person.display()"
      ],
      "metadata": {
        "colab": {
          "base_uri": "https://localhost:8080/"
        },
        "id": "sOutKq4KQ1Lm",
        "outputId": "d3327133-a1fc-434d-ef9e-042b8ec52867"
      },
      "execution_count": 5,
      "outputs": [
        {
          "output_type": "stream",
          "name": "stdout",
          "text": [
            "Dominic Z Marasigan,  19 years old\n"
          ]
        }
      ]
    },
    {
      "cell_type": "code",
      "source": [
        "#Application 1 - Write a Python Program that computes for an area of Rectangle A =l*w\n",
        "\n",
        "class Rectangle:\n",
        "    def __init__(self, l, w):\n",
        "        self.l = l                  ##attribute name\n",
        "        self.w  = w \n",
        "\n",
        "    def Area(self):\n",
        "        print (\"Area is:\", self.l * self.w)\n",
        "\n",
        "rect = Rectangle(9, 13)\n",
        "rect.Area()"
      ],
      "metadata": {
        "colab": {
          "base_uri": "https://localhost:8080/"
        },
        "id": "O0w0lxgNQ_It",
        "outputId": "8a023f6d-1311-4cdd-ce0e-01f2c7e9f7f1"
      },
      "execution_count": 4,
      "outputs": [
        {
          "output_type": "stream",
          "name": "stdout",
          "text": [
            "Area is: 117\n"
          ]
        }
      ]
    }
  ]
}